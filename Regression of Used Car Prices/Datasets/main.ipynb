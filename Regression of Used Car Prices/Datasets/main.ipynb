{
 "cells": [
  {
   "cell_type": "code",
   "execution_count": null,
   "id": "49cae9c9",
   "metadata": {},
   "outputs": [],
   "source": [
    "\n",
    "import pandas as pd\n",
    "import numpy as np\n",
    "import matplotlib.pyplot as plt\n",
    "import sklearn as sk\n",
    "from datetime import datetime\n",
    "from sklearn.preprocessing import LabelEncoder\n",
    "\n"
   ]
  },
  {
   "cell_type": "code",
   "execution_count": 26,
   "id": "ed5695f9",
   "metadata": {},
   "outputs": [
    {
     "data": {
      "application/vnd.microsoft.datawrangler.viewer.v0+json": {
       "columns": [
        {
         "name": "index",
         "rawType": "int64",
         "type": "integer"
        },
        {
         "name": "id",
         "rawType": "int64",
         "type": "integer"
        },
        {
         "name": "brand",
         "rawType": "object",
         "type": "string"
        },
        {
         "name": "model",
         "rawType": "object",
         "type": "string"
        },
        {
         "name": "model_year",
         "rawType": "int64",
         "type": "integer"
        },
        {
         "name": "milage",
         "rawType": "int64",
         "type": "integer"
        },
        {
         "name": "fuel_type",
         "rawType": "object",
         "type": "string"
        },
        {
         "name": "engine",
         "rawType": "object",
         "type": "string"
        },
        {
         "name": "transmission",
         "rawType": "object",
         "type": "string"
        },
        {
         "name": "ext_col",
         "rawType": "object",
         "type": "string"
        },
        {
         "name": "int_col",
         "rawType": "object",
         "type": "string"
        },
        {
         "name": "accident",
         "rawType": "object",
         "type": "string"
        },
        {
         "name": "clean_title",
         "rawType": "object",
         "type": "string"
        },
        {
         "name": "price",
         "rawType": "int64",
         "type": "integer"
        }
       ],
       "ref": "a132a8d0-ccb9-4681-86f2-dcc8694609b3",
       "rows": [
        [
         "0",
         "0",
         "MINI",
         "Cooper S Base",
         "2007",
         "213000",
         "Gasoline",
         "172.0HP 1.6L 4 Cylinder Engine Gasoline Fuel",
         "A/T",
         "Yellow",
         "Gray",
         "None reported",
         "Yes",
         "4200"
        ],
        [
         "1",
         "1",
         "Lincoln",
         "LS V8",
         "2002",
         "143250",
         "Gasoline",
         "252.0HP 3.9L 8 Cylinder Engine Gasoline Fuel",
         "A/T",
         "Silver",
         "Beige",
         "At least 1 accident or damage reported",
         "Yes",
         "4999"
        ]
       ],
       "shape": {
        "columns": 13,
        "rows": 2
       }
      },
      "text/html": [
       "<div>\n",
       "<style scoped>\n",
       "    .dataframe tbody tr th:only-of-type {\n",
       "        vertical-align: middle;\n",
       "    }\n",
       "\n",
       "    .dataframe tbody tr th {\n",
       "        vertical-align: top;\n",
       "    }\n",
       "\n",
       "    .dataframe thead th {\n",
       "        text-align: right;\n",
       "    }\n",
       "</style>\n",
       "<table border=\"1\" class=\"dataframe\">\n",
       "  <thead>\n",
       "    <tr style=\"text-align: right;\">\n",
       "      <th></th>\n",
       "      <th>id</th>\n",
       "      <th>brand</th>\n",
       "      <th>model</th>\n",
       "      <th>model_year</th>\n",
       "      <th>milage</th>\n",
       "      <th>fuel_type</th>\n",
       "      <th>engine</th>\n",
       "      <th>transmission</th>\n",
       "      <th>ext_col</th>\n",
       "      <th>int_col</th>\n",
       "      <th>accident</th>\n",
       "      <th>clean_title</th>\n",
       "      <th>price</th>\n",
       "    </tr>\n",
       "  </thead>\n",
       "  <tbody>\n",
       "    <tr>\n",
       "      <th>0</th>\n",
       "      <td>0</td>\n",
       "      <td>MINI</td>\n",
       "      <td>Cooper S Base</td>\n",
       "      <td>2007</td>\n",
       "      <td>213000</td>\n",
       "      <td>Gasoline</td>\n",
       "      <td>172.0HP 1.6L 4 Cylinder Engine Gasoline Fuel</td>\n",
       "      <td>A/T</td>\n",
       "      <td>Yellow</td>\n",
       "      <td>Gray</td>\n",
       "      <td>None reported</td>\n",
       "      <td>Yes</td>\n",
       "      <td>4200</td>\n",
       "    </tr>\n",
       "    <tr>\n",
       "      <th>1</th>\n",
       "      <td>1</td>\n",
       "      <td>Lincoln</td>\n",
       "      <td>LS V8</td>\n",
       "      <td>2002</td>\n",
       "      <td>143250</td>\n",
       "      <td>Gasoline</td>\n",
       "      <td>252.0HP 3.9L 8 Cylinder Engine Gasoline Fuel</td>\n",
       "      <td>A/T</td>\n",
       "      <td>Silver</td>\n",
       "      <td>Beige</td>\n",
       "      <td>At least 1 accident or damage reported</td>\n",
       "      <td>Yes</td>\n",
       "      <td>4999</td>\n",
       "    </tr>\n",
       "  </tbody>\n",
       "</table>\n",
       "</div>"
      ],
      "text/plain": [
       "   id    brand          model  model_year  milage fuel_type  \\\n",
       "0   0     MINI  Cooper S Base        2007  213000  Gasoline   \n",
       "1   1  Lincoln          LS V8        2002  143250  Gasoline   \n",
       "\n",
       "                                         engine transmission ext_col int_col  \\\n",
       "0  172.0HP 1.6L 4 Cylinder Engine Gasoline Fuel          A/T  Yellow    Gray   \n",
       "1  252.0HP 3.9L 8 Cylinder Engine Gasoline Fuel          A/T  Silver   Beige   \n",
       "\n",
       "                                 accident clean_title  price  \n",
       "0                           None reported         Yes   4200  \n",
       "1  At least 1 accident or damage reported         Yes   4999  "
      ]
     },
     "execution_count": 26,
     "metadata": {},
     "output_type": "execute_result"
    }
   ],
   "source": [
    "df_original = pd.read_csv(\"train.csv\")\n",
    "\n",
    "df = df_original.copy()\n",
    "df.head(2)\n"
   ]
  },
  {
   "cell_type": "code",
   "execution_count": 15,
   "id": "6b13f0a6",
   "metadata": {},
   "outputs": [
    {
     "data": {
      "text/plain": [
       "array(['Yes', nan], dtype=object)"
      ]
     },
     "execution_count": 15,
     "metadata": {},
     "output_type": "execute_result"
    }
   ],
   "source": [
    "df['clean_title'].unique()"
   ]
  },
  {
   "cell_type": "code",
   "execution_count": 16,
   "id": "d02dd913",
   "metadata": {},
   "outputs": [],
   "source": [
    "null_columns = [\"clean_title\",\"accident\",\"fuel_type\"]"
   ]
  },
  {
   "cell_type": "code",
   "execution_count": 17,
   "id": "d3e198ec",
   "metadata": {},
   "outputs": [
    {
     "name": "stdout",
     "output_type": "stream",
     "text": [
      "<class 'pandas.core.frame.DataFrame'>\n",
      "RangeIndex: 188533 entries, 0 to 188532\n",
      "Data columns (total 13 columns):\n",
      " #   Column        Non-Null Count   Dtype \n",
      "---  ------        --------------   ----- \n",
      " 0   id            188533 non-null  int64 \n",
      " 1   brand         188533 non-null  object\n",
      " 2   model         188533 non-null  object\n",
      " 3   model_year    188533 non-null  int64 \n",
      " 4   milage        188533 non-null  int64 \n",
      " 5   fuel_type     183450 non-null  object\n",
      " 6   engine        188533 non-null  object\n",
      " 7   transmission  188533 non-null  object\n",
      " 8   ext_col       188533 non-null  object\n",
      " 9   int_col       188533 non-null  object\n",
      " 10  accident      186081 non-null  object\n",
      " 11  clean_title   167114 non-null  object\n",
      " 12  price         188533 non-null  int64 \n",
      "dtypes: int64(4), object(9)\n",
      "memory usage: 18.7+ MB\n"
     ]
    }
   ],
   "source": [
    "df.info()"
   ]
  },
  {
   "cell_type": "code",
   "execution_count": 18,
   "id": "be47b9fa",
   "metadata": {},
   "outputs": [],
   "source": [
    "df_original = pd.read_csv(\"train.csv\")\n"
   ]
  },
  {
   "cell_type": "code",
   "execution_count": 19,
   "id": "7df5e9e0",
   "metadata": {},
   "outputs": [
    {
     "data": {
      "text/plain": [
       "array([1, 0])"
      ]
     },
     "execution_count": 19,
     "metadata": {},
     "output_type": "execute_result"
    }
   ],
   "source": [
    "# Handle clean_title Null values\n",
    "\n",
    "df['clean_title'] = df['clean_title'].fillna('No')\n",
    "df['clean_title'] = df['clean_title'].map({\n",
    "    'Yes': 1,\n",
    "    'No' : 0\n",
    "})\n",
    "df['clean_title'].unique()"
   ]
  },
  {
   "cell_type": "code",
   "execution_count": 20,
   "id": "7902c034",
   "metadata": {},
   "outputs": [
    {
     "data": {
      "text/plain": [
       "array(['None reported', 'At least 1 accident or damage reported', 0],\n",
       "      dtype=object)"
      ]
     },
     "execution_count": 20,
     "metadata": {},
     "output_type": "execute_result"
    }
   ],
   "source": [
    "# Handle accident Null values and mapping (0,1,-1)\n",
    "df['accident'] = df['accident'].fillna('none reported')\n",
    "\n",
    "df['accident'] = df['accident'].replace({\n",
    "    'none reported': 0,\n",
    "    'at least 1 accident or damage reported': 1,\n",
    "})\n",
    "\n",
    "df['accident'].unique()\n"
   ]
  },
  {
   "cell_type": "code",
   "execution_count": 21,
   "id": "722acb31",
   "metadata": {},
   "outputs": [
    {
     "data": {
      "text/plain": [
       "array([1, 0, 2])"
      ]
     },
     "execution_count": 21,
     "metadata": {},
     "output_type": "execute_result"
    }
   ],
   "source": [
    "# Handle fuel_type Null values and mapping\n",
    "\n",
    "df['fuel_type'] = df['fuel_type'].replace(['–', 'Electric'], np.nan)\n",
    "df['fuel_type'] = df['fuel_type'].fillna(df['fuel_type'].mode()[0])\n",
    "\n",
    "# frequency encoding \n",
    "\n",
    "\n",
    "\n",
    "df['fuel_type'] = df['fuel_type'].map({\n",
    "    'Gasoline' : 'Standard',\n",
    "    'E85 Flex Fuel' : 'Standard',\n",
    "    'Diesel': 'Premium',\n",
    "    'Hybrid': 'Premium',\n",
    "    'Plug-In Hybrid': 'Premium',\n",
    "    'Electric' : 'Electric',\n",
    "    'Unknown': 'Standard'\n",
    "})\n",
    "\n",
    "\n",
    "le = LabelEncoder()\n",
    "df['fuel_type']  =le.fit_transform(df['fuel_type'])\n",
    "\n",
    "\n",
    "\n",
    "df['fuel_type'].unique()"
   ]
  },
  {
   "cell_type": "code",
   "execution_count": 22,
   "id": "b08940e7",
   "metadata": {},
   "outputs": [
    {
     "data": {
      "text/plain": [
       "array([18, 23,  8,  4,  7,  9,  5, 10, 14, 12,  2,  6, 13, 11, 17, 16,  3,\n",
       "       22, 20, 24, 19, 25, 15, 21, 28, 27, 26, 31, 32, 29, 30,  1, 51, 33])"
      ]
     },
     "execution_count": 22,
     "metadata": {},
     "output_type": "execute_result"
    }
   ],
   "source": [
    "# get the age of the car \n",
    "\n",
    "current_year = datetime.now().year\n",
    "df['car_age'] = current_year - df['model_year']\n",
    "\n",
    "df['car_age'].unique()"
   ]
  },
  {
   "cell_type": "code",
   "execution_count": 27,
   "id": "d2572ddc",
   "metadata": {},
   "outputs": [
    {
     "data": {
      "text/plain": [
       "array(['172.0HP 1.6L 4 Cylinder Engine Gasoline Fuel',\n",
       "       '252.0HP 3.9L 8 Cylinder Engine Gasoline Fuel',\n",
       "       '320.0HP 5.3L 8 Cylinder Engine Flex Fuel Capability', ...,\n",
       "       '78.0HP 1.2L 3 Cylinder Engine Gasoline Fuel',\n",
       "       '139.0HP 1.6L 4 Cylinder Engine Plug-In Electric/Gas',\n",
       "       '313.0HP 2.0L 4 Cylinder Engine Plug-In Electric/Gas'],\n",
       "      shape=(1117,), dtype=object)"
      ]
     },
     "execution_count": 27,
     "metadata": {},
     "output_type": "execute_result"
    }
   ],
   "source": [
    "df['engine'].unique()"
   ]
  },
  {
   "cell_type": "code",
   "execution_count": 36,
   "id": "b6215335",
   "metadata": {},
   "outputs": [
    {
     "name": "stdout",
     "output_type": "stream",
     "text": [
      "6706\n"
     ]
    }
   ],
   "source": [
    "# Handle engine column (extract into 3 new columns)\n",
    "#  HP, Capacity , cylinders\n",
    "\n",
    "df['horse_power'] = df['engine'].str.extract(r'(\\d+\\.?\\d*)HP').astype(float)\n",
    "\n",
    "df['capacity'] = df['engine'].str.extract(r'(\\d+\\.?\\d*)L').astype(float)\n",
    "\n",
    "df['cylinders'] = df['engine'].str.extract(r'(?:V)?(\\d+)\\s*(?:Cylinder|(?=\\s|$))')\n",
    "\n",
    "\n",
    "print (df['cylinders'].isnull().sum())\n",
    "\n",
    "df['capacity'] = df['capacity'].fillna(df.groupby(['cylinders'])['capacity'].transform('median'))\n",
    "df['capacity'] = df['capacity'].fillna(df['capacity'].median())\n",
    "\n",
    "\n",
    "df['cylinders'] = df['cylinders'].astype(float)\n",
    "df['cylinders'] = df['cylinders'].fillna(df['cylinders'].mode()[0])\n",
    "\n",
    "nulls = df['horse_power'].isnull()\n",
    "if nulls.sum() > 0:\n",
    "    avg_hp_per_liter_cylinder = (df['horse_power'] / (df['capacity'] * df['cylinders'])).median()\n",
    "    \n",
    "    df.loc[nulls, 'horse_power'] = (\n",
    "        df.loc[nulls, 'capacity'] * \n",
    "        df.loc[nulls, 'cylinders'] * \n",
    "        avg_hp_per_liter_cylinder\n",
    "    )\n",
    "\n",
    "\n",
    "\n",
    "\n",
    "\n"
   ]
  },
  {
   "cell_type": "code",
   "execution_count": null,
   "id": "6d0ff312",
   "metadata": {},
   "outputs": [],
   "source": []
  },
  {
   "cell_type": "code",
   "execution_count": 25,
   "id": "7aa86deb",
   "metadata": {},
   "outputs": [
    {
     "data": {
      "text/plain": [
       "array(['A/T', 'Transmission w/Dual Shift Mode', '7-Speed A/T',\n",
       "       '8-Speed A/T', '10-Speed Automatic', '1-Speed A/T', '6-Speed A/T',\n",
       "       '10-Speed A/T', '9-Speed A/T', '8-Speed Automatic',\n",
       "       '9-Speed Automatic', '5-Speed A/T', 'Automatic',\n",
       "       '7-Speed Automatic with Auto-Shift', 'CVT Transmission',\n",
       "       '5-Speed M/T', 'M/T', '6-Speed M/T', '6-Speed Automatic',\n",
       "       '4-Speed Automatic', '7-Speed M/T', '2-Speed A/T',\n",
       "       '1-Speed Automatic', 'Automatic CVT', '4-Speed A/T',\n",
       "       '6-Speed Manual', 'Transmission Overdrive Switch',\n",
       "       '8-Speed Automatic with Auto-Shift', '7-Speed Manual',\n",
       "       '7-Speed Automatic', '9-Speed Automatic with Auto-Shift',\n",
       "       '6-Speed Automatic with Auto-Shift',\n",
       "       '6-Speed Electronically Controlled Automatic with O', 'F', 'CVT-F',\n",
       "       '8-Speed Manual', 'Manual', '–', '2', '6 Speed At/Mt',\n",
       "       '5-Speed Automatic', '2-Speed Automatic', '8-SPEED A/T', '7-Speed',\n",
       "       'Variable', 'Single-Speed Fixed Gear', '8-SPEED AT',\n",
       "       '10-Speed Automatic with Overdrive', '7-Speed DCT Automatic',\n",
       "       'SCHEDULED FOR OR IN PRODUCTION', '6-Speed', '6 Speed Mt'],\n",
       "      dtype=object)"
      ]
     },
     "execution_count": 25,
     "metadata": {},
     "output_type": "execute_result"
    }
   ],
   "source": [
    "df['transmission'].unique()"
   ]
  },
  {
   "cell_type": "code",
   "execution_count": null,
   "id": "1aaca446",
   "metadata": {},
   "outputs": [],
   "source": []
  }
 ],
 "metadata": {
  "kernelspec": {
   "display_name": "Python 3",
   "language": "python",
   "name": "python3"
  },
  "language_info": {
   "codemirror_mode": {
    "name": "ipython",
    "version": 3
   },
   "file_extension": ".py",
   "mimetype": "text/x-python",
   "name": "python",
   "nbconvert_exporter": "python",
   "pygments_lexer": "ipython3",
   "version": "3.13.5"
  }
 },
 "nbformat": 4,
 "nbformat_minor": 5
}
